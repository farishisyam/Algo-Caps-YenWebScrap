{
 "cells": [
  {
   "cell_type": "code",
   "execution_count": 272,
   "metadata": {},
   "outputs": [],
   "source": [
    "from bs4 import BeautifulSoup\n",
    "import requests\n",
    "import pandas as pd\n",
    "from datetime import datetime"
   ]
  },
  {
   "cell_type": "code",
   "execution_count": 273,
   "metadata": {},
   "outputs": [],
   "source": [
    "url = \"https://monexnews.com/kurs-valuta-asing.htm?kurs=JPY&searchdatefrom=01-01-2019&searchdateto=31-12-2019\"\n",
    "url_get = requests.get(url)\n",
    "soup = BeautifulSoup(url_get.text, 'html.parser')"
   ]
  },
  {
   "cell_type": "code",
   "execution_count": 274,
   "metadata": {},
   "outputs": [],
   "source": [
    "table = soup.find('table', attrs={'class' : 'table'})"
   ]
  },
  {
   "cell_type": "code",
   "execution_count": 275,
   "metadata": {},
   "outputs": [],
   "source": [
    "tr = table.find_all('tr', attrs={'class':'verySoftGreyBg'})"
   ]
  },
  {
   "cell_type": "code",
   "execution_count": 276,
   "metadata": {},
   "outputs": [],
   "source": [
    "temp =[]\n",
    "\n",
    "for i in range (1, 247):\n",
    "    row = table.find_all('tr')[i]\n",
    "    #get Tanggal\n",
    "    tanggal = row.find_all('td')[0].text\n",
    "    tanggal = tanggal.strip()\n",
    "    #get kurs_jual\n",
    "    kurs_jual = row.find_all('td')[1].text\n",
    "    kurs_jual = kurs_jual.strip()\n",
    "    #get kurs_beli\n",
    "    kurs_beli = row.find_all('td')[2].text\n",
    "    kurs_beli = kurs_beli.strip()\n",
    "    temp.append((tanggal, kurs_jual, kurs_beli))\n",
    "\n",
    "temp = temp[::-1]\n"
   ]
  },
  {
   "cell_type": "code",
   "execution_count": 277,
   "metadata": {},
   "outputs": [
    {
     "data": {
      "text/html": [
       "<div>\n",
       "<style scoped>\n",
       "    .dataframe tbody tr th:only-of-type {\n",
       "        vertical-align: middle;\n",
       "    }\n",
       "\n",
       "    .dataframe tbody tr th {\n",
       "        vertical-align: top;\n",
       "    }\n",
       "\n",
       "    .dataframe thead th {\n",
       "        text-align: right;\n",
       "    }\n",
       "</style>\n",
       "<table border=\"1\" class=\"dataframe\">\n",
       "  <thead>\n",
       "    <tr style=\"text-align: right;\">\n",
       "      <th></th>\n",
       "      <th>Tanggal</th>\n",
       "      <th>Kurs Jual</th>\n",
       "      <th>Kurs Beli</th>\n",
       "    </tr>\n",
       "  </thead>\n",
       "  <tbody>\n",
       "    <tr>\n",
       "      <th>0</th>\n",
       "      <td>02 Januari 2019</td>\n",
       "      <td>132,89</td>\n",
       "      <td>131,54</td>\n",
       "    </tr>\n",
       "    <tr>\n",
       "      <th>1</th>\n",
       "      <td>03 Januari 2019</td>\n",
       "      <td>135,44</td>\n",
       "      <td>134,08</td>\n",
       "    </tr>\n",
       "    <tr>\n",
       "      <th>2</th>\n",
       "      <td>04 Januari 2019</td>\n",
       "      <td>133,51</td>\n",
       "      <td>132,17</td>\n",
       "    </tr>\n",
       "    <tr>\n",
       "      <th>3</th>\n",
       "      <td>07 Januari 2019</td>\n",
       "      <td>130,86</td>\n",
       "      <td>129,51</td>\n",
       "    </tr>\n",
       "    <tr>\n",
       "      <th>4</th>\n",
       "      <td>08 Januari 2019</td>\n",
       "      <td>129,84</td>\n",
       "      <td>128,52</td>\n",
       "    </tr>\n",
       "  </tbody>\n",
       "</table>\n",
       "</div>"
      ],
      "text/plain": [
       "           Tanggal Kurs Jual Kurs Beli\n",
       "0  02 Januari 2019    132,89    131,54\n",
       "1  03 Januari 2019    135,44    134,08\n",
       "2  04 Januari 2019    133,51    132,17\n",
       "3  07 Januari 2019    130,86    129,51\n",
       "4  08 Januari 2019    129,84    128,52"
      ]
     },
     "execution_count": 277,
     "metadata": {},
     "output_type": "execute_result"
    }
   ],
   "source": [
    "df = pd.DataFrame(temp, columns = ('Tanggal', 'Kurs Jual', 'Kurs Beli'))\n",
    "df.head()"
   ]
  },
  {
   "cell_type": "code",
   "execution_count": 278,
   "metadata": {},
   "outputs": [
    {
     "data": {
      "text/plain": [
       "Tanggal       object\n",
       "Kurs Jual    float64\n",
       "Kurs Beli    float64\n",
       "dtype: object"
      ]
     },
     "execution_count": 278,
     "metadata": {},
     "output_type": "execute_result"
    }
   ],
   "source": [
    "df['Kurs Beli'] = df['Kurs Beli'].str.replace(\",\", \".\")\n",
    "df['Kurs Jual'] = df['Kurs Jual'].str.replace(\",\", \".\")\n",
    "df[['Kurs Beli', 'Kurs Jual']] = df[['Kurs Beli', 'Kurs Jual']].astype('float64')\n",
    "df.dtypes"
   ]
  },
  {
   "cell_type": "code",
   "execution_count": 279,
   "metadata": {},
   "outputs": [],
   "source": [
    "df['Tanggal'] = df['Tanggal'].str.replace(\"Januari\", \"Jan\")\n",
    "df['Tanggal'] = df['Tanggal'].str.replace(\"Februari\", \"Feb\")\n",
    "df['Tanggal'] = df['Tanggal'].str.replace(\"Maret\", \"Mar\")\n",
    "df['Tanggal'] = df['Tanggal'].str.replace(\"April\", \"Apr\")\n",
    "df['Tanggal'] = df['Tanggal'].str.replace(\"Mei\", \"May\")\n",
    "df['Tanggal'] = df['Tanggal'].str.replace(\"Juni\", \"Jun\")\n",
    "df['Tanggal'] = df['Tanggal'].str.replace(\"Juli\", \"Jul\")\n",
    "df['Tanggal'] = df['Tanggal'].str.replace(\"Agustus\", \"Aug\")\n",
    "df['Tanggal'] = df['Tanggal'].str.replace(\"September\", \"Sep\")\n",
    "df['Tanggal'] = df['Tanggal'].str.replace(\"Oktober\", \"Oct\")\n",
    "df['Tanggal'] = df['Tanggal'].str.replace(\"November\", \"Nov\")\n",
    "df['Tanggal'] = df['Tanggal'].str.replace(\"Desember\", \"Dec\")"
   ]
  },
  {
   "cell_type": "code",
   "execution_count": 280,
   "metadata": {},
   "outputs": [],
   "source": [
    "df['Tanggal'] = pd.to_datetime(df['Tanggal'], dayfirst=True)"
   ]
  },
  {
   "cell_type": "code",
   "execution_count": 281,
   "metadata": {},
   "outputs": [],
   "source": [
    "df['Bulan'] = df['Tanggal'].dt.month_name()"
   ]
  },
  {
   "cell_type": "code",
   "execution_count": 282,
   "metadata": {},
   "outputs": [],
   "source": [
    "df.set_index('Tanggal', inplace=True)"
   ]
  },
  {
   "cell_type": "code",
   "execution_count": 283,
   "metadata": {},
   "outputs": [
    {
     "data": {
      "text/html": [
       "<div>\n",
       "<style scoped>\n",
       "    .dataframe tbody tr th:only-of-type {\n",
       "        vertical-align: middle;\n",
       "    }\n",
       "\n",
       "    .dataframe tbody tr th {\n",
       "        vertical-align: top;\n",
       "    }\n",
       "\n",
       "    .dataframe thead th {\n",
       "        text-align: right;\n",
       "    }\n",
       "</style>\n",
       "<table border=\"1\" class=\"dataframe\">\n",
       "  <thead>\n",
       "    <tr style=\"text-align: right;\">\n",
       "      <th></th>\n",
       "      <th>Kurs Jual</th>\n",
       "      <th>Kurs Beli</th>\n",
       "    </tr>\n",
       "    <tr>\n",
       "      <th>Bulan</th>\n",
       "      <th></th>\n",
       "      <th></th>\n",
       "    </tr>\n",
       "  </thead>\n",
       "  <tbody>\n",
       "    <tr>\n",
       "      <th>April</th>\n",
       "      <td>127.367368</td>\n",
       "      <td>126.071053</td>\n",
       "    </tr>\n",
       "    <tr>\n",
       "      <th>August</th>\n",
       "      <td>134.737727</td>\n",
       "      <td>133.372273</td>\n",
       "    </tr>\n",
       "    <tr>\n",
       "      <th>December</th>\n",
       "      <td>129.099000</td>\n",
       "      <td>127.791500</td>\n",
       "    </tr>\n",
       "    <tr>\n",
       "      <th>February</th>\n",
       "      <td>127.862632</td>\n",
       "      <td>126.571053</td>\n",
       "    </tr>\n",
       "    <tr>\n",
       "      <th>January</th>\n",
       "      <td>130.750000</td>\n",
       "      <td>129.421818</td>\n",
       "    </tr>\n",
       "    <tr>\n",
       "      <th>July</th>\n",
       "      <td>130.464348</td>\n",
       "      <td>129.133043</td>\n",
       "    </tr>\n",
       "    <tr>\n",
       "      <th>June</th>\n",
       "      <td>132.400667</td>\n",
       "      <td>131.046000</td>\n",
       "    </tr>\n",
       "    <tr>\n",
       "      <th>March</th>\n",
       "      <td>128.524500</td>\n",
       "      <td>127.218000</td>\n",
       "    </tr>\n",
       "    <tr>\n",
       "      <th>May</th>\n",
       "      <td>131.472857</td>\n",
       "      <td>130.135238</td>\n",
       "    </tr>\n",
       "    <tr>\n",
       "      <th>November</th>\n",
       "      <td>129.923810</td>\n",
       "      <td>128.602857</td>\n",
       "    </tr>\n",
       "    <tr>\n",
       "      <th>October</th>\n",
       "      <td>131.215652</td>\n",
       "      <td>129.883913</td>\n",
       "    </tr>\n",
       "    <tr>\n",
       "      <th>September</th>\n",
       "      <td>132.008571</td>\n",
       "      <td>130.663810</td>\n",
       "    </tr>\n",
       "  </tbody>\n",
       "</table>\n",
       "</div>"
      ],
      "text/plain": [
       "            Kurs Jual   Kurs Beli\n",
       "Bulan                            \n",
       "April      127.367368  126.071053\n",
       "August     134.737727  133.372273\n",
       "December   129.099000  127.791500\n",
       "February   127.862632  126.571053\n",
       "January    130.750000  129.421818\n",
       "July       130.464348  129.133043\n",
       "June       132.400667  131.046000\n",
       "March      128.524500  127.218000\n",
       "May        131.472857  130.135238\n",
       "November   129.923810  128.602857\n",
       "October    131.215652  129.883913\n",
       "September  132.008571  130.663810"
      ]
     },
     "execution_count": 283,
     "metadata": {},
     "output_type": "execute_result"
    }
   ],
   "source": [
    "Monthly = df.groupby('Bulan').agg({'Kurs Jual' : 'mean', 'Kurs Beli' : 'mean'})\n",
    "Monthly"
   ]
  },
  {
   "cell_type": "code",
   "execution_count": 284,
   "metadata": {},
   "outputs": [
    {
     "data": {
      "text/plain": [
       "<matplotlib.axes._subplots.AxesSubplot at 0x1e572f774f0>"
      ]
     },
     "execution_count": 284,
     "metadata": {},
     "output_type": "execute_result"
    },
    {
     "data": {
      "image/png": "[encoded data removed]",
      "text/plain": [
       "<Figure size 432x288 with 1 Axes>"
      ]
     },
     "metadata": {
      "needs_background": "light"
     },
     "output_type": "display_data"
    }
   ],
   "source": [
    "Monthly.plot()"
   ]
  },
  {
   "cell_type": "code",
   "execution_count": 285,
   "metadata": {},
   "outputs": [
    {
     "data": {
      "text/plain": [
       "<matplotlib.axes._subplots.AxesSubplot at 0x1e572de3a00>"
      ]
     },
     "execution_count": 285,
     "metadata": {},
     "output_type": "execute_result"
    },
    {
     "data": {
      "image/png": "[encoded data removed]",
      "text/plain": [
       "<Figure size 432x288 with 1 Axes>"
      ]
     },
     "metadata": {
      "needs_background": "light"
     },
     "output_type": "display_data"
    }
   ],
   "source": [
    "df.plot(kind='line')"
   ]
  }
 ],
 "metadata": {
  "kernelspec": {
   "display_name": "Python [conda env:scraping]",
   "language": "python",
   "name": "conda-env-scraping-py"
  },
  "language_info": {
   "codemirror_mode": {
    "name": "ipython",
    "version": 3
   },
   "file_extension": ".py",
   "mimetype": "text/x-python",
   "name": "python",
   "nbconvert_exporter": "python",
   "pygments_lexer": "ipython3",
   "version": "3.8.2"
  },
  "toc": {
   "base_numbering": 1,
   "nav_menu": {},
   "number_sections": true,
   "sideBar": true,
   "skip_h1_title": false,
   "title_cell": "Table of Contents",
   "title_sidebar": "Contents",
   "toc_cell": false,
   "toc_position": {},
   "toc_section_display": true,
   "toc_window_display": false
  },
  "varInspector": {
   "cols": {
    "lenName": 16,
    "lenType": 16,
    "lenVar": 40
   },
   "kernels_config": {
    "python": {
     "delete_cmd_postfix": "",
     "delete_cmd_prefix": "del ",
     "library": "var_list.py",
     "varRefreshCmd": "print(var_dic_list())"
    },
    "r": {
     "delete_cmd_postfix": ") ",
     "delete_cmd_prefix": "rm(",
     "library": "var_list.r",
     "varRefreshCmd": "cat(var_dic_list()) "
    }
   },
   "types_to_exclude": [
    "module",
    "function",
    "builtin_function_or_method",
    "instance",
    "_Feature"
   ],
   "window_display": false
  }
 },
 "nbformat": 4,
 "nbformat_minor": 4
}
